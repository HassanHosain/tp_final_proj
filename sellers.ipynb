{
 "cells": [
  {
   "cell_type": "code",
   "execution_count": 95,
   "metadata": {},
   "outputs": [
    {
     "data": {
      "text/html": [
       "<div>\n",
       "<style scoped>\n",
       "    .dataframe tbody tr th:only-of-type {\n",
       "        vertical-align: middle;\n",
       "    }\n",
       "\n",
       "    .dataframe tbody tr th {\n",
       "        vertical-align: top;\n",
       "    }\n",
       "\n",
       "    .dataframe thead th {\n",
       "        text-align: right;\n",
       "    }\n",
       "</style>\n",
       "<table border=\"1\" class=\"dataframe\">\n",
       "  <thead>\n",
       "    <tr style=\"text-align: right;\">\n",
       "      <th></th>\n",
       "      <th>seller_id</th>\n",
       "      <th>seller_zip_code_prefix</th>\n",
       "      <th>seller_city</th>\n",
       "      <th>seller_state</th>\n",
       "    </tr>\n",
       "  </thead>\n",
       "  <tbody>\n",
       "    <tr>\n",
       "      <th>0</th>\n",
       "      <td>3442f8959a84dea7ee197c632cb2df15</td>\n",
       "      <td>13023</td>\n",
       "      <td>campinas</td>\n",
       "      <td>SP</td>\n",
       "    </tr>\n",
       "    <tr>\n",
       "      <th>1</th>\n",
       "      <td>d1b65fc7debc3361ea86b5f14c68d2e2</td>\n",
       "      <td>13844</td>\n",
       "      <td>mogi guacu</td>\n",
       "      <td>SP</td>\n",
       "    </tr>\n",
       "    <tr>\n",
       "      <th>2</th>\n",
       "      <td>ce3ad9de960102d0677a81f5d0bb7b2d</td>\n",
       "      <td>20031</td>\n",
       "      <td>rio de janeiro</td>\n",
       "      <td>RJ</td>\n",
       "    </tr>\n",
       "    <tr>\n",
       "      <th>3</th>\n",
       "      <td>c0f3eea2e14555b6faeea3dd58c1b1c3</td>\n",
       "      <td>4195</td>\n",
       "      <td>sao paulo</td>\n",
       "      <td>SP</td>\n",
       "    </tr>\n",
       "    <tr>\n",
       "      <th>4</th>\n",
       "      <td>51a04a8a6bdcb23deccc82b0b80742cf</td>\n",
       "      <td>12914</td>\n",
       "      <td>braganca paulista</td>\n",
       "      <td>SP</td>\n",
       "    </tr>\n",
       "  </tbody>\n",
       "</table>\n",
       "</div>"
      ],
      "text/plain": [
       "                          seller_id  seller_zip_code_prefix  \\\n",
       "0  3442f8959a84dea7ee197c632cb2df15                   13023   \n",
       "1  d1b65fc7debc3361ea86b5f14c68d2e2                   13844   \n",
       "2  ce3ad9de960102d0677a81f5d0bb7b2d                   20031   \n",
       "3  c0f3eea2e14555b6faeea3dd58c1b1c3                    4195   \n",
       "4  51a04a8a6bdcb23deccc82b0b80742cf                   12914   \n",
       "\n",
       "         seller_city seller_state  \n",
       "0           campinas           SP  \n",
       "1         mogi guacu           SP  \n",
       "2     rio de janeiro           RJ  \n",
       "3          sao paulo           SP  \n",
       "4  braganca paulista           SP  "
      ]
     },
     "execution_count": 95,
     "metadata": {},
     "output_type": "execute_result"
    }
   ],
   "source": [
    "import pandas as pd\n",
    "import psycopg2\n",
    "from sklearn.feature_extraction.text import CountVectorizer\n",
    "from sklearn.tree import DecisionTreeClassifier\n",
    "from sklearn.pipeline import Pipeline\n",
    "\n",
    "\n",
    "sellers_df = pd.read_csv(\"data/olist_sellers_dataset.csv\")\n",
    "\n",
    "sellers_df.head()"
   ]
  },
  {
   "cell_type": "markdown",
   "metadata": {},
   "source": [
    "## Check the total number of rows with unique seller id"
   ]
  },
  {
   "cell_type": "code",
   "execution_count": 96,
   "metadata": {},
   "outputs": [
    {
     "data": {
      "text/plain": [
       "3095"
      ]
     },
     "execution_count": 96,
     "metadata": {},
     "output_type": "execute_result"
    }
   ],
   "source": [
    "#Total unique rows\n",
    "len(sellers_df[\"seller_id\"].unique())\n"
   ]
  },
  {
   "cell_type": "markdown",
   "metadata": {},
   "source": [
    "## Check the total number of totals in given the dataframe"
   ]
  },
  {
   "cell_type": "code",
   "execution_count": 97,
   "metadata": {},
   "outputs": [
    {
     "data": {
      "text/plain": [
       "3095"
      ]
     },
     "execution_count": 97,
     "metadata": {},
     "output_type": "execute_result"
    }
   ],
   "source": [
    "#Check the length of the dataframe\n",
    "len(sellers_df)\n"
   ]
  },
  {
   "cell_type": "markdown",
   "metadata": {},
   "source": [
    "## check for the duplicates rows"
   ]
  },
  {
   "cell_type": "code",
   "execution_count": 98,
   "metadata": {},
   "outputs": [
    {
     "data": {
      "text/plain": [
       "3095"
      ]
     },
     "execution_count": 98,
     "metadata": {},
     "output_type": "execute_result"
    }
   ],
   "source": [
    "#Check for duplicates rows\n",
    "len(sellers_df.drop_duplicates())"
   ]
  },
  {
   "cell_type": "markdown",
   "metadata": {},
   "source": [
    "## Get information on the dataframe heading - includes datatype"
   ]
  },
  {
   "cell_type": "code",
   "execution_count": 99,
   "metadata": {},
   "outputs": [
    {
     "name": "stdout",
     "output_type": "stream",
     "text": [
      "<class 'pandas.core.frame.DataFrame'>\n",
      "RangeIndex: 3095 entries, 0 to 3094\n",
      "Data columns (total 4 columns):\n",
      " #   Column                  Non-Null Count  Dtype \n",
      "---  ------                  --------------  ----- \n",
      " 0   seller_id               3095 non-null   object\n",
      " 1   seller_zip_code_prefix  3095 non-null   int64 \n",
      " 2   seller_city             3095 non-null   object\n",
      " 3   seller_state            3095 non-null   object\n",
      "dtypes: int64(1), object(3)\n",
      "memory usage: 96.8+ KB\n"
     ]
    }
   ],
   "source": [
    "#information about the dataframe \n",
    "\n",
    "sellers_df.info()"
   ]
  },
  {
   "cell_type": "markdown",
   "metadata": {},
   "source": [
    "## Total count of rows and columns"
   ]
  },
  {
   "cell_type": "code",
   "execution_count": 100,
   "metadata": {},
   "outputs": [
    {
     "data": {
      "text/plain": [
       "(3095, 4)"
      ]
     },
     "execution_count": 100,
     "metadata": {},
     "output_type": "execute_result"
    }
   ],
   "source": [
    "# Get the count of total rows and columns\n",
    "sellers_df.shape"
   ]
  },
  {
   "cell_type": "markdown",
   "metadata": {},
   "source": [
    "## Check on the sum of empty cells in the dataframe columns"
   ]
  },
  {
   "cell_type": "code",
   "execution_count": 101,
   "metadata": {},
   "outputs": [
    {
     "name": "stdout",
     "output_type": "stream",
     "text": [
      "\n",
      "Empty cells count in DataFrame:\n",
      "seller_id                 0\n",
      "seller_zip_code_prefix    0\n",
      "seller_city               0\n",
      "seller_state              0\n",
      "dtype: int64\n"
     ]
    }
   ],
   "source": [
    "# Calculate the sum of empty cells in each column\n",
    "print(\"\\nEmpty cells count in DataFrame:\")\n",
    "print(sellers_df.isnull().sum())\n"
   ]
  },
  {
   "cell_type": "markdown",
   "metadata": {},
   "source": [
    "## Matching of Full State Name based on state abbreviation column "
   ]
  },
  {
   "cell_type": "code",
   "execution_count": 102,
   "metadata": {},
   "outputs": [
    {
     "data": {
      "text/html": [
       "<div>\n",
       "<style scoped>\n",
       "    .dataframe tbody tr th:only-of-type {\n",
       "        vertical-align: middle;\n",
       "    }\n",
       "\n",
       "    .dataframe tbody tr th {\n",
       "        vertical-align: top;\n",
       "    }\n",
       "\n",
       "    .dataframe thead th {\n",
       "        text-align: right;\n",
       "    }\n",
       "</style>\n",
       "<table border=\"1\" class=\"dataframe\">\n",
       "  <thead>\n",
       "    <tr style=\"text-align: right;\">\n",
       "      <th></th>\n",
       "      <th>seller_id</th>\n",
       "      <th>seller_zip_code_prefix</th>\n",
       "      <th>seller_city</th>\n",
       "      <th>seller_state</th>\n",
       "      <th>seller_state_fullname</th>\n",
       "    </tr>\n",
       "  </thead>\n",
       "  <tbody>\n",
       "    <tr>\n",
       "      <th>0</th>\n",
       "      <td>3442f8959a84dea7ee197c632cb2df15</td>\n",
       "      <td>13023</td>\n",
       "      <td>campinas</td>\n",
       "      <td>SP</td>\n",
       "      <td>Sao Paulo</td>\n",
       "    </tr>\n",
       "    <tr>\n",
       "      <th>1</th>\n",
       "      <td>d1b65fc7debc3361ea86b5f14c68d2e2</td>\n",
       "      <td>13844</td>\n",
       "      <td>mogi guacu</td>\n",
       "      <td>SP</td>\n",
       "      <td>Sao Paulo</td>\n",
       "    </tr>\n",
       "    <tr>\n",
       "      <th>2</th>\n",
       "      <td>ce3ad9de960102d0677a81f5d0bb7b2d</td>\n",
       "      <td>20031</td>\n",
       "      <td>rio de janeiro</td>\n",
       "      <td>RJ</td>\n",
       "      <td>Rio de Janeiro</td>\n",
       "    </tr>\n",
       "    <tr>\n",
       "      <th>3</th>\n",
       "      <td>c0f3eea2e14555b6faeea3dd58c1b1c3</td>\n",
       "      <td>4195</td>\n",
       "      <td>sao paulo</td>\n",
       "      <td>SP</td>\n",
       "      <td>Sao Paulo</td>\n",
       "    </tr>\n",
       "    <tr>\n",
       "      <th>4</th>\n",
       "      <td>51a04a8a6bdcb23deccc82b0b80742cf</td>\n",
       "      <td>12914</td>\n",
       "      <td>braganca paulista</td>\n",
       "      <td>SP</td>\n",
       "      <td>Sao Paulo</td>\n",
       "    </tr>\n",
       "  </tbody>\n",
       "</table>\n",
       "</div>"
      ],
      "text/plain": [
       "                          seller_id  seller_zip_code_prefix  \\\n",
       "0  3442f8959a84dea7ee197c632cb2df15                   13023   \n",
       "1  d1b65fc7debc3361ea86b5f14c68d2e2                   13844   \n",
       "2  ce3ad9de960102d0677a81f5d0bb7b2d                   20031   \n",
       "3  c0f3eea2e14555b6faeea3dd58c1b1c3                    4195   \n",
       "4  51a04a8a6bdcb23deccc82b0b80742cf                   12914   \n",
       "\n",
       "         seller_city seller_state seller_state_fullname  \n",
       "0           campinas           SP             Sao Paulo  \n",
       "1         mogi guacu           SP             Sao Paulo  \n",
       "2     rio de janeiro           RJ        Rio de Janeiro  \n",
       "3          sao paulo           SP             Sao Paulo  \n",
       "4  braganca paulista           SP             Sao Paulo  "
      ]
     },
     "execution_count": 102,
     "metadata": {},
     "output_type": "execute_result"
    }
   ],
   "source": [
    "# Assuming you have a dictionary mapping two-letter state abbreviations to full names\n",
    "state_mapping = {\n",
    "'SP':'Sao Paulo',\n",
    "'RN':'Rio Grande do Norte',\n",
    "'AC':'Acre',\n",
    "'RJ':'Rio de Janeiro',\n",
    "'ES':'Espirito Santo',\n",
    "'MG':'Minas Gerais',\n",
    "'BA':'Bahia',\n",
    "'SE':'Sergipe',\n",
    "'PE':'Pernambuco',\n",
    "'AL':'Alagoas',\n",
    "'PB':'Paraiba',\n",
    "'CE':'Ceara',\n",
    "'PI':'Piaui',\n",
    "'MA':'Maranhao',\n",
    "'PA':'Para',\n",
    "'AP':'Amapa',\n",
    "'AM':'Amazonas',\n",
    "'RR':'Roraima',\n",
    "'DF':'Distrito Federal',\n",
    "'GO':'Goias',\n",
    "'RO':'Rondonia',\n",
    "'TO':'Tocantins',\n",
    "'MT':'Mato Grosso',\n",
    "'MS':'Mato Grosso do Sul',\n",
    "'RS':'Rio Grande do Sul',\n",
    "'PR':'Parana',\n",
    "'SC':'Santa Catarina'}\n",
    "\n",
    "# Assuming your DataFrame is 'sellers_df' and the state abbreviation column is 'seller_state'\n",
    "sellers_df['seller_state_fullname'] = sellers_df['seller_state'].map(state_mapping)\n",
    "\n",
    "sellers_df.head()"
   ]
  },
  {
   "cell_type": "markdown",
   "metadata": {},
   "source": [
    "## Fill the zip code with a leading zero if the length of the zip code is 4 digits"
   ]
  },
  {
   "cell_type": "code",
   "execution_count": 103,
   "metadata": {},
   "outputs": [
    {
     "name": "stdout",
     "output_type": "stream",
     "text": [
      "                          seller_id seller_zip_code_prefix        seller_city  \\\n",
      "0  3442f8959a84dea7ee197c632cb2df15                  13023           campinas   \n",
      "1  d1b65fc7debc3361ea86b5f14c68d2e2                  13844         mogi guacu   \n",
      "2  ce3ad9de960102d0677a81f5d0bb7b2d                  20031     rio de janeiro   \n",
      "3  c0f3eea2e14555b6faeea3dd58c1b1c3                  04195          sao paulo   \n",
      "4  51a04a8a6bdcb23deccc82b0b80742cf                  12914  braganca paulista   \n",
      "\n",
      "  seller_state seller_state_fullname  \n",
      "0           SP             Sao Paulo  \n",
      "1           SP             Sao Paulo  \n",
      "2           RJ        Rio de Janeiro  \n",
      "3           SP             Sao Paulo  \n",
      "4           SP             Sao Paulo  \n"
     ]
    }
   ],
   "source": [
    "\n",
    "# Add leading zero to 4-digit zip codes\n",
    "sellers_df['seller_zip_code_prefix'] = sellers_df['seller_zip_code_prefix'].astype(str).str.zfill(5)\n",
    "\n",
    "\n",
    "# Display the modified DataFrame\n",
    "print(sellers_df.head())\n"
   ]
  },
  {
   "cell_type": "markdown",
   "metadata": {},
   "source": [
    "## Checking of spelling in seller_city in sellers_df dataframe"
   ]
  },
  {
   "cell_type": "code",
   "execution_count": 105,
   "metadata": {},
   "outputs": [
    {
     "name": "stdout",
     "output_type": "stream",
     "text": [
      "                          seller_id seller_zip_code_prefix        seller_city  \\\n",
      "0  3442f8959a84dea7ee197c632cb2df15                  13023           Campinas   \n",
      "1  d1b65fc7debc3361ea86b5f14c68d2e2                  13844         Mogi Guacu   \n",
      "2  ce3ad9de960102d0677a81f5d0bb7b2d                  20031     Rio de Janeiro   \n",
      "3  c0f3eea2e14555b6faeea3dd58c1b1c3                  04195          Sao Paulo   \n",
      "4  51a04a8a6bdcb23deccc82b0b80742cf                  12914  Braganca Paulista   \n",
      "\n",
      "  seller_state seller_state_fullname  \n",
      "0           SP             Sao Paulo  \n",
      "1           SP             Sao Paulo  \n",
      "2           RJ        Rio de Janeiro  \n",
      "3           SP             Sao Paulo  \n",
      "4           SP             Sao Paulo  \n"
     ]
    }
   ],
   "source": [
    "\n",
    "# Read the city spelling check file\n",
    "matching_word_df = pd.read_csv(\"data/city_spelling_check.csv\")\n",
    "\n",
    "\n",
    "# Sample dataset of misspelled words and their corrections\n",
    "X_train = matching_word_df['wrong_word']\n",
    "y_train = matching_word_df['right_word']\n",
    "\n",
    "# Feature extraction and model training pipeline\n",
    "pipeline = Pipeline([\n",
    "    ('vect', CountVectorizer(analyzer='char', ngram_range=(1, 3))),\n",
    "    ('clf', DecisionTreeClassifier())\n",
    "])\n",
    "\n",
    "# Train the model\n",
    "pipeline.fit(X_train, y_train)\n",
    "\n",
    "# Example usage\n",
    "input_words = sellers_df['seller_city']\n",
    "suggestedword = []\n",
    "for word in input_words:\n",
    "    suggestion = pipeline.predict([word])[0]\n",
    "    suggestedword.append(suggestion) # Append the string suggestion, not the list suggestedword\n",
    "\n",
    "# Add sugested word to the dataframe\n",
    "sellers_df['seller_city'] = suggestedword\n",
    "\n",
    "\n",
    "\n",
    "# Print or use the updated dataframe matching_word_found\n",
    "print(sellers_df.head())\n",
    "\n",
    "\n"
   ]
  },
  {
   "cell_type": "markdown",
   "metadata": {},
   "source": [
    "## Connection to postgresql"
   ]
  },
  {
   "cell_type": "code",
   "execution_count": 107,
   "metadata": {},
   "outputs": [
    {
     "name": "stdout",
     "output_type": "stream",
     "text": [
      "duplicate key value violates unique constraint \"olist_sellers_dataset_pkey\"\n",
      "DETAIL:  Key (seller_id)=(3442f8959a84dea7ee197c632cb2df15) already exists.\n",
      "\n"
     ]
    }
   ],
   "source": [
    " #connection to postgresql \n",
    "\n",
    "conn =None\n",
    "cur=None\n",
    "\n",
    "\n",
    "try:\n",
    "    conn = psycopg2.connect(\n",
    "    host='localhost',\n",
    "    dbname='Database(new)',\n",
    "    user='postgres',\n",
    "    password='admin',\n",
    "    port='5432',\n",
    "     )\n",
    "    cur=conn.cursor()\n",
    " \n",
    "    create_script_review ='''CREATE TABLE IF NOT EXISTS olist_sellers_dataset(\n",
    "        seller_id text primary key,\n",
    "        seller_zip_code_prefix int,\n",
    "        seller_city varchar(250),\n",
    "        seller_state varchar (10),\n",
    "        seller_state_fullname varchar(250),\n",
    "        FOREIGN KEY (seller_id) REFERENCES olist_order_items_dataset(seller_id),\n",
    "        FOREIGN KEY (seller_zip_code_prefix) REFERENCES olist_geolocation_dataset(geolocation_zip_code_prefix)\n",
    "\n",
    "\n",
    " )'''\n",
    "\n",
    "\n",
    "    cur.execute(create_script_review)\n",
    "\n",
    "    conn.commit()\n",
    "    for index, row in sellers_df.iterrows():\n",
    "        insert_script_host = '''INSERT INTO olist_sellers_dataset  (  \n",
    "        seller_id ,\n",
    "       seller_zip_code_prefix ,\n",
    "       seller_city ,\n",
    "       seller_state,\n",
    "       seller_state_fullname) VALUES (%s,%s,%s,%s,%s) '''\n",
    "        values =(row.iloc[0],row.iloc[1],row.iloc[2],row.iloc[3],row.iloc[4])\n",
    "        cur.execute(insert_script_host,values)\n",
    "        conn.commit()\n",
    "\n",
    "\n",
    "\n",
    "except Exception as error:      \n",
    "    print(error)\n",
    "\n",
    "\n",
    "finally:\n",
    "\n",
    "    if cur is not None:\n",
    "\n",
    "        cur.close()\n",
    "        conn.close()"
   ]
  },
  {
   "cell_type": "markdown",
   "metadata": {},
   "source": [
    "Remarks:\n",
    "\n",
    "-  Sellers are from brazil\n",
    "- No duplicate rows found, each row has a unique seller id\n",
    "- Total seller - 3095\n",
    "\n",
    "Date types of each column:\n",
    "\n",
    "-     Column                  Non-Null Count  Dtype \n",
    "- ---  ------                  --------------  ----- \n",
    "-  0   seller_id               3095 non-null   object\n",
    "-  1   seller_zip_code_prefix  3095 non-null   int64 \n",
    " - 2   seller_city             3095 non-null   object\n",
    " - 3   seller_state            3095 non-null   object\n",
    "\n",
    "- No null values found\n",
    "\n",
    "Transformation\n",
    "\n",
    "- Matching of Full State Name based on state abbreviation column \n",
    "- Fill the zip code with a leading zero if the length of the zip code is 4 digits\n",
    "- Checking of spelling in seller_city in sellers_df dataframe\n"
   ]
  }
 ],
 "metadata": {
  "kernelspec": {
   "display_name": "Python 3",
   "language": "python",
   "name": "python3"
  },
  "language_info": {
   "codemirror_mode": {
    "name": "ipython",
    "version": 3
   },
   "file_extension": ".py",
   "mimetype": "text/x-python",
   "name": "python",
   "nbconvert_exporter": "python",
   "pygments_lexer": "ipython3",
   "version": "3.12.2"
  }
 },
 "nbformat": 4,
 "nbformat_minor": 2
}
