{
 "cells": [
  {
   "cell_type": "markdown",
   "metadata": {},
   "source": [
    "## Reading API from kaggle dataset on Olist dataset\n",
    "https://www.kaggle.com/datasets/olistbr/brazilian-ecommerce\n",
    "\n",
    "Firstly you need to install kaggle"
   ]
  },
  {
   "cell_type": "code",
   "execution_count": 42,
   "metadata": {},
   "outputs": [
    {
     "name": "stdout",
     "output_type": "stream",
     "text": [
      "Requirement already satisfied: kaggle in c:\\users\\t470\\documents\\temasekpoly_final_proj\\tp_final_proj\\my_virtualenv\\lib\\site-packages (1.6.12)\n",
      "Requirement already satisfied: six>=1.10 in c:\\users\\t470\\documents\\temasekpoly_final_proj\\tp_final_proj\\my_virtualenv\\lib\\site-packages (from kaggle) (1.16.0)\n",
      "Requirement already satisfied: certifi>=2023.7.22 in c:\\users\\t470\\documents\\temasekpoly_final_proj\\tp_final_proj\\my_virtualenv\\lib\\site-packages (from kaggle) (2024.2.2)\n",
      "Requirement already satisfied: python-dateutil in c:\\users\\t470\\documents\\temasekpoly_final_proj\\tp_final_proj\\my_virtualenv\\lib\\site-packages (from kaggle) (2.9.0.post0)\n",
      "Requirement already satisfied: requests in c:\\users\\t470\\documents\\temasekpoly_final_proj\\tp_final_proj\\my_virtualenv\\lib\\site-packages (from kaggle) (2.31.0)\n",
      "Requirement already satisfied: tqdm in c:\\users\\t470\\documents\\temasekpoly_final_proj\\tp_final_proj\\my_virtualenv\\lib\\site-packages (from kaggle) (4.66.2)\n",
      "Requirement already satisfied: python-slugify in c:\\users\\t470\\documents\\temasekpoly_final_proj\\tp_final_proj\\my_virtualenv\\lib\\site-packages (from kaggle) (8.0.4)\n",
      "Requirement already satisfied: urllib3 in c:\\users\\t470\\documents\\temasekpoly_final_proj\\tp_final_proj\\my_virtualenv\\lib\\site-packages (from kaggle) (2.2.1)\n",
      "Requirement already satisfied: bleach in c:\\users\\t470\\documents\\temasekpoly_final_proj\\tp_final_proj\\my_virtualenv\\lib\\site-packages (from kaggle) (6.1.0)\n",
      "Requirement already satisfied: webencodings in c:\\users\\t470\\documents\\temasekpoly_final_proj\\tp_final_proj\\my_virtualenv\\lib\\site-packages (from bleach->kaggle) (0.5.1)\n",
      "Requirement already satisfied: text-unidecode>=1.3 in c:\\users\\t470\\documents\\temasekpoly_final_proj\\tp_final_proj\\my_virtualenv\\lib\\site-packages (from python-slugify->kaggle) (1.3)\n",
      "Requirement already satisfied: charset-normalizer<4,>=2 in c:\\users\\t470\\documents\\temasekpoly_final_proj\\tp_final_proj\\my_virtualenv\\lib\\site-packages (from requests->kaggle) (3.3.2)\n",
      "Requirement already satisfied: idna<4,>=2.5 in c:\\users\\t470\\documents\\temasekpoly_final_proj\\tp_final_proj\\my_virtualenv\\lib\\site-packages (from requests->kaggle) (2.10)\n",
      "Requirement already satisfied: colorama in c:\\users\\t470\\documents\\temasekpoly_final_proj\\tp_final_proj\\my_virtualenv\\lib\\site-packages (from tqdm->kaggle) (0.4.6)\n"
     ]
    },
    {
     "name": "stderr",
     "output_type": "stream",
     "text": [
      "\n",
      "[notice] A new release of pip is available: 23.1.2 -> 24.0\n",
      "[notice] To update, run: python.exe -m pip install --upgrade pip\n"
     ]
    }
   ],
   "source": [
    "!pip install kaggle"
   ]
  },
  {
   "cell_type": "markdown",
   "metadata": {},
   "source": [
    "### Kaggle requires the api key to be in a specific location \n",
    "For windows the folder created should be in the location C:\\Users\\<Windows-username>\\.kaggle\\\n",
    "\n",
    "https://github.com/Kaggle/kaggle-api\n",
    "\n",
    "Create a kaggle directory as suggested in the documentation. the .kaggle folder create below will be created as C:\\Users\\<Windows-username>\\.kaggle\\"
   ]
  },
  {
   "cell_type": "code",
   "execution_count": 43,
   "metadata": {},
   "outputs": [
    {
     "name": "stdout",
     "output_type": "stream",
     "text": [
      "kaggle folder exist C:\\Users\\T470\\.kaggle\n"
     ]
    }
   ],
   "source": [
    "import os\n",
    "\n",
    "# Specify the folder where you want to save the file C:\\Users\\T470\\.kaggle\n",
    "kaggle_path = os.path.join(os.getenv('USERPROFILE'),'.kaggle')\n",
    "\n",
    "# Check if the folder exists, if not, create it in windows environment\n",
    "if not os.path.exists(kaggle_path):\n",
    "    os.makedirs(kaggle_path)\n",
    "else:\n",
    "    print(f'kaggle folder exist {kaggle_path}')\n",
    "\n",
    "# !mkdir ~/.kaggle"
   ]
  },
  {
   "cell_type": "markdown",
   "metadata": {},
   "source": [
    "### Get your API kaggle token\n",
    "\n",
    "go to your kaggle account then click settings. Under the API section click Create New Token.\n",
    "\n",
    "You will download a kaggle.json file.\n",
    "Below command will copy the kaggle.json file into into your .kaggle folder you created\n",
    "\n",
    "you have to change the command below from \"T470\" to your respective user"
   ]
  },
  {
   "cell_type": "code",
   "execution_count": 44,
   "metadata": {},
   "outputs": [
    {
     "name": "stderr",
     "output_type": "stream",
     "text": [
      "'cp' is not recognized as an internal or external command,\n",
      "operable program or batch file.\n"
     ]
    }
   ],
   "source": [
    "#this command is for windows directory\n",
    "!cp C:\\Users\\T470\\Downloads\\kaggle.json C:\\Users\\T470\\.kaggle"
   ]
  },
  {
   "cell_type": "code",
   "execution_count": 45,
   "metadata": {},
   "outputs": [
    {
     "name": "stdout",
     "output_type": "stream",
     "text": [
      " Volume in drive C has no label.\n",
      " Volume Serial Number is 3C73-E7F7\n",
      "\n",
      " Directory of C:\\Users\\T470\\.kaggle\n",
      "\n",
      "05/09/2024  06:46 PM    <DIR>          .\n",
      "05/09/2024  06:46 PM    <DIR>          ..\n",
      "05/09/2024  06:46 PM                70 kaggle (1).json\n",
      "03/20/2024  08:14 PM                68 kaggle.json\n",
      "               2 File(s)            138 bytes\n",
      "               2 Dir(s)   1,399,242,752 bytes free\n"
     ]
    }
   ],
   "source": [
    "#listing the files in C:\\Users\\T470\\.kaggle to check if the file is copied\n",
    "\n",
    "!cd C:\\Users\\T470\\.kaggle && dir"
   ]
  },
  {
   "cell_type": "markdown",
   "metadata": {},
   "source": [
    "Next we will import the kaggle libraries, and attempt to authenticate with your token"
   ]
  },
  {
   "cell_type": "code",
   "execution_count": 46,
   "metadata": {},
   "outputs": [],
   "source": [
    "import kaggle\n",
    "from kaggle.api.kaggle_api_extended import KaggleApi\n",
    "\n",
    "#authenticate your kaggle\n",
    "api = KaggleApi()\n",
    "api.authenticate()"
   ]
  },
  {
   "cell_type": "markdown",
   "metadata": {},
   "source": [
    "Now will will download the file using the owner username followed by the dataset name, we can do this by taking from the url.\n",
    "https://www.kaggle.com/datasets/olistbr/brazilian-ecommerce\n",
    "\n",
    "where olistbr is the username and the dataset is brazilian-ecommerce\n",
    "Next we have to take note of the 9 files you would download\n",
    "which is as below:\n",
    "- olist_customers_dataset.csv\n",
    "- olist_geolocation_dataset.csv\n",
    "- olist_order_items_dataset.csv\n",
    "- olist_order_payments_dataset.csv\n",
    "- olist_order_reviews_dataset.csv\n",
    "- olist_orders_dataset.csv\n",
    "- olist_products_dataset.csv\n",
    "- olist_sellers_dataset.csv\n",
    "- product_categor_name_translation.csv"
   ]
  },
  {
   "cell_type": "code",
   "execution_count": 47,
   "metadata": {},
   "outputs": [
    {
     "name": "stdout",
     "output_type": "stream",
     "text": [
      "Dataset URL: https://www.kaggle.com/datasets/olistbr/brazilian-ecommerce\n"
     ]
    },
    {
     "name": "stdout",
     "output_type": "stream",
     "text": [
      "Download successful!\n",
      "Dataset URL: https://www.kaggle.com/datasets/olistbr/brazilian-ecommerce\n",
      "Download successful!\n",
      "Dataset URL: https://www.kaggle.com/datasets/olistbr/brazilian-ecommerce\n",
      "Download successful!\n",
      "Dataset URL: https://www.kaggle.com/datasets/olistbr/brazilian-ecommerce\n",
      "Download successful!\n",
      "Dataset URL: https://www.kaggle.com/datasets/olistbr/brazilian-ecommerce\n",
      "Download successful!\n",
      "Dataset URL: https://www.kaggle.com/datasets/olistbr/brazilian-ecommerce\n",
      "Download successful!\n",
      "Dataset URL: https://www.kaggle.com/datasets/olistbr/brazilian-ecommerce\n",
      "Download successful!\n",
      "Dataset URL: https://www.kaggle.com/datasets/olistbr/brazilian-ecommerce\n",
      "Download successful!\n",
      "Dataset URL: https://www.kaggle.com/datasets/olistbr/brazilian-ecommerce\n",
      "Download successful!\n",
      "Dataset URL: https://www.kaggle.com/datasets/olistbr/brazilian-ecommerce\n",
      "Download successful!\n"
     ]
    }
   ],
   "source": [
    "#folder path where to download the files too\n",
    "folder_path='./data'\n",
    "\n",
    "# Check if the folder exists, if not, create it\n",
    "if not os.path.exists(folder_path):\n",
    "    os.makedirs(folder_path)\n",
    "\n",
    "csv_files=['olist_customers_dataset.csv','olist_geolocation_dataset.csv','olist_order_items_dataset.csv','olist_order_payments_dataset.csv','olist_order_reviews_dataset.csv','olist_order_reviews_dataset.csv','olist_orders_dataset.csv','olist_products_dataset.csv','olist_sellers_dataset.csv','product_category_name_translation.csv']\n",
    "\n",
    "for filename in csv_files:\n",
    "\n",
    "    # Check if the request was successful\n",
    "    try:\n",
    "        api.dataset_download_file('olistbr/brazilian-ecommerce', file_name=filename)\n",
    "        print(\"Download successful!\")\n",
    "    except Exception as e:\n",
    "        print(\"Error occurred during download:\", e)"
   ]
  },
  {
   "cell_type": "markdown",
   "metadata": {},
   "source": [
    "as download will make it a zipfile you wil need to unzip it,\n",
    "\n",
    "we will unzip this file and extract the csv into the data folder"
   ]
  },
  {
   "cell_type": "code",
   "execution_count": 48,
   "metadata": {},
   "outputs": [
    {
     "name": "stdout",
     "output_type": "stream",
     "text": [
      "File olist_customers_dataset.csv.zip deleted successfully!\n",
      "File olist_geolocation_dataset.csv.zip deleted successfully!\n",
      "File olist_order_items_dataset.csv.zip deleted successfully!\n",
      "File olist_order_payments_dataset.csv.zip deleted successfully!\n",
      "File olist_order_reviews_dataset.csv.zip deleted successfully!\n",
      "File olist_order_reviews_dataset.csv.zip does not exist.\n",
      "File olist_orders_dataset.csv.zip deleted successfully!\n",
      "File olist_products_dataset.csv.zip deleted successfully!\n"
     ]
    }
   ],
   "source": [
    "import zipfile\n",
    "import shutil\n",
    "\n",
    "#unzipping the files\n",
    "zip_files=['olist_customers_dataset.csv.zip','olist_geolocation_dataset.csv.zip','olist_order_items_dataset.csv.zip','olist_order_payments_dataset.csv.zip','olist_order_reviews_dataset.csv.zip','olist_orders_dataset.csv.zip','olist_products_dataset.csv.zip']\n",
    "\n",
    "for zip_file in zip_files:\n",
    "    \n",
    "    #below is the zipfile that is downloaded\n",
    "    with zipfile.ZipFile(zip_file,'r')as zipref:\n",
    "        zipref.extractall(path=os.getcwd()+'\\\\'+folder_path)\n",
    "\n",
    "for csvfile in ['olist_sellers_dataset.csv','product_category_name_translation.csv']:\n",
    "\n",
    "    try:\n",
    "        # move the only 2 csv file to the folder_path 'olist_sellers_dataset.csv','product_category_name_translation.csv'\n",
    "        shutil.move(csvfile, folder_path+'/'+csvfile)\n",
    "        #shutil.move('product_category_name_translation.csv', folder_path+'/product_category_name_translation.csv')\n",
    "    except Exception as e:\n",
    "        print(\"Error occurred during file copy:\", e)\n",
    "\n",
    "\n",
    "#deleting the zip_files in the main directory after moving\n",
    "for zip_file in zip_files:\n",
    "    try:\n",
    "        # Check if the file exists before attempting to delete it\n",
    "        if os.path.exists(zip_file):\n",
    "            os.remove(zip_file)\n",
    "            print(f\"File {zip_file} deleted successfully!\")\n",
    "        else:\n",
    "            print(f\"File {zip_file} does not exist.\")\n",
    "    except Exception as e:\n",
    "        print(\"Error occurred while deleting the file:\", e)\n"
   ]
  },
  {
   "cell_type": "markdown",
   "metadata": {},
   "source": [
    "Check if the file is successfully extracted in data folder"
   ]
  }
 ],
 "metadata": {
  "kernelspec": {
   "display_name": "Python 3",
   "language": "python",
   "name": "python3"
  },
  "language_info": {
   "codemirror_mode": {
    "name": "ipython",
    "version": 3
   },
   "file_extension": ".py",
   "mimetype": "text/x-python",
   "name": "python",
   "nbconvert_exporter": "python",
   "pygments_lexer": "ipython3",
   "version": "3.11.4"
  }
 },
 "nbformat": 4,
 "nbformat_minor": 2
}
