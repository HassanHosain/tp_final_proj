{
 "cells": [
  {
   "cell_type": "markdown",
   "metadata": {},
   "source": [
    "## Create table to postgresql database: olist_db"
   ]
  },
  {
<<<<<<< HEAD
   "cell_type": "code",
   "execution_count": 22,
   "metadata": {},
   "outputs": [],
=======
   "cell_type": "markdown",
   "metadata": {},
   "source": [
    "First Method using sqlalchemy unable to set primary"
   ]
  },
  {
   "cell_type": "code",
   "execution_count": 35,
   "metadata": {},
   "outputs": [
    {
     "name": "stderr",
     "output_type": "stream",
     "text": [
      "C:\\Users\\T470\\AppData\\Local\\Temp\\ipykernel_11324\\3647069781.py:24: DtypeWarning: Columns (8,9) have mixed types. Specify dtype option on import or set low_memory=False.\n",
      "  clean_orders_reviews_df = pd.read_csv(csv_file)\n"
     ]
    }
   ],
>>>>>>> 5bb9f7757747801c8c53a484b346877f0745587f
   "source": [
    "import pandas as pd\n",
    "import psycopg2\n",
    "from sqlalchemy import create_engine, VARCHAR, TIMESTAMP, TEXT, INTEGER\n",
<<<<<<< HEAD
=======
    "from sqlalchemy import text\n",
>>>>>>> 5bb9f7757747801c8c53a484b346877f0745587f
    "\n",
    "username='postgres'\n",
    "password = 'admin'\n",
    "hostname = 'localhost'\n",
    "port = 5432\n",
    "database ='olist_db'\n",
    "\n",
    "db_url = f'postgresql://{username}:{password}@{hostname}:{port}/{database}'\n",
    "\n",
    "# Create engine\n",
    "engine = create_engine(db_url)\n",
    "\n",
<<<<<<< HEAD
    "# Establish a connection\n",
    "conn = engine.connect()"
   ]
  },
  {
   "cell_type": "code",
   "execution_count": 25,
   "metadata": {},
   "outputs": [
    {
     "name": "stderr",
     "output_type": "stream",
     "text": [
      "C:\\Users\\T470\\AppData\\Local\\Temp\\ipykernel_22424\\2675646048.py:7: DtypeWarning: Columns (8,9) have mixed types. Specify dtype option on import or set low_memory=False.\n",
      "  clean_orders_reviews_df = pd.read_csv(csv_file)\n"
     ]
    },
    {
     "data": {
      "text/plain": [
       "1000"
      ]
     },
     "execution_count": 25,
     "metadata": {},
     "output_type": "execute_result"
    }
   ],
   "source": [
=======
    "\n",
>>>>>>> 5bb9f7757747801c8c53a484b346877f0745587f
    "# File path and table name\n",
    "csv_file = \"clean_data/cleaned_orders_reviews.csv\"\n",
    "table_name = \"orders_reviews_tbl\"\n",
    "\n",
    "\n",
    "# Read CSV into DataFrame\n",
    "clean_orders_reviews_df = pd.read_csv(csv_file)\n",
    "\n",
    "\n",
    "# Define data types for each column\n",
    "dtype = {\n",
    "    'review_id': VARCHAR,  # Example: VARCHAR with length 50\n",
    "    'order_id': VARCHAR,\n",
    "    'review_score': INTEGER,\n",
    "    'review_comment_title': TEXT,\n",
    "    'review_comment_message': TEXT,\n",
    "    'review_creation_date': TIMESTAMP,\n",
<<<<<<< HEAD
    "    'review_answer_date' : TIMESTAMP,\n",
=======
    "    'review_answer_timestamp' : TIMESTAMP,\n",
>>>>>>> 5bb9f7757747801c8c53a484b346877f0745587f
    "    'cleaned_review_comment': TEXT,\n",
    "    'translated_review_comment': TEXT,\n",
    "    'translated_comment_title': TEXT\n",
    "\n",
    "}\n",
    "\n",
    "\n",
    "# Upload DataFrame to PostgreSQL\n",
<<<<<<< HEAD
    "clean_orders_reviews_df.to_sql(table_name, engine, if_exists='append', dtype=dtype, index=False)\n",
    "\n"
=======
    "clean_orders_reviews_df.to_sql(table_name, engine, if_exists='replace', dtype=dtype, index=False)\n",
    "\n",
    "# Add the constraints to the table\n",
    "with engine.connect() as connection:\n",
    "\n",
    "    add_pk_sql = text(\n",
    "        \"ALTER TABLE orders_reviews_tbl \"\n",
    "        \"ADD CONSTRAINT pk_review_id PRIMARY KEY (review_id, order_id);\"\n",
    "    )  \n",
    "    # Execute the SQL statement\n",
    "    connection.execute(add_pk_sql)\n",
    "\n",
    "    # alter_order_id_fk = text(\"ALTER TABLE orders_reviews_tbl ADD CONSTRAINT fk_order_id FOREIGN KEY (order_id) REFERENCES order_tbl(order_id);\")\n",
    "\n",
    "    # # Execute the SQL statement\n",
    "    # connection.execute(alter_order_id_fk)\n",
    "\n",
    "    # Commit the transaction\n",
    "    connection.commit()"
   ]
  },
  {
   "cell_type": "markdown",
   "metadata": {},
   "source": [
    "## 2nd method using psycopg2"
   ]
  },
  {
   "cell_type": "code",
   "execution_count": 25,
   "metadata": {},
   "outputs": [
    {
     "name": "stderr",
     "output_type": "stream",
     "text": [
      "C:\\Users\\T470\\AppData\\Local\\Temp\\ipykernel_11324\\3301257580.py:11: DtypeWarning: Columns (8,9) have mixed types. Specify dtype option on import or set low_memory=False.\n",
      "  clean_orders_reviews_df = pd.read_csv(csv_file)\n"
     ]
    }
   ],
   "source": [
    "import psycopg2\n",
    "from psycopg2 import sql\n",
    "import pandas as pd\n",
    "\n",
    "# File path and table name\n",
    "csv_file = \"clean_data/cleaned_orders_reviews.csv\"\n",
    "table_name = \"orders_reviews_tbl\"\n",
    "\n",
    "\n",
    "# Read CSV into DataFrame\n",
    "clean_orders_reviews_df = pd.read_csv(csv_file)\n",
    "\n",
    "# # Check for duplicate review_id values\n",
    "# duplicates = clean_orders_reviews_df['review_id'].duplicated().any()\n",
    "\n",
    "# if duplicates:\n",
    "#     print(\"Error: DataFrame contains duplicate review_id values.\")\n",
    "#     # Handle the error or remove duplicates from the DataFrame\n",
    "# else:\n",
    "#     print(\"No duplicate review_id values found. Proceeding with insertion.\")\n",
    "#     # Proceed with the insertion process\n",
    "\n",
    "conn = psycopg2.connect(\n",
    "    dbname=\"olist_db\",\n",
    "    user=\"postgres\",\n",
    "    password=\"admin\",\n",
    "    host=\"localhost\",\n",
    "    port=\"5432\"\n",
    ")\n",
    "\n",
    "# Create a cursor object\n",
    "cur = conn.cursor()\n",
    "\n",
    "\n",
    "# Create a table query\n",
    "create_table_query = \"\"\"\n",
    "    CREATE TABLE IF NOT EXISTS orders_reviews_tbl (\n",
    "        review_id VARCHAR,\n",
    "        order_id VARCHAR,\n",
    "        review_score INT,\n",
    "        review_comment_title TEXT,\n",
    "        review_comment_message TEXT,\n",
    "        review_creation_date TIMESTAMP,\n",
    "        review_answer_timestamp TIMESTAMP,\n",
    "        cleaned_review_comment TEXT,\n",
    "        translated_review_comment TEXT,\n",
    "        translated_comment_title TEXT,\n",
    "        PRIMARY KEY (review_id, order_id)\n",
    "        -- FOREIGN KEY (order_id) REFERENCES orders_tbl(order_id)\n",
    "    );\n",
    "\"\"\"\n",
    "\n",
    "\n",
    "# Execute the table creation query\n",
    "cur.execute(create_table_query)\n",
    "\n",
    "# Commit the transaction\n",
    "conn.commit()\n",
    "\n",
    "# Assuming orders_reviews_df is your DataFrame\n",
    "# Convert DataFrame to list of tuples, including the timestamp\n",
    "data = [(row['review_id'], row['order_id'], row['review_score'], row['review_comment_title'], row['review_comment_message'], row['review_creation_date'], row['review_answer_timestamp'], row['cleaned_review_comment'],row['translated_review_comment'], row['translated_comment_title']) for index, row in clean_orders_reviews_df.iterrows()]\n",
    "\n",
    "\n",
    "# Create an insert query\n",
    "insert_query = sql.SQL(\"\"\"\n",
    "    INSERT INTO orders_reviews_tbl (review_id, order_id, review_score, review_comment_title, review_comment_message, review_creation_date, review_answer_timestamp, cleaned_review_comment, translated_review_comment, translated_comment_title)\n",
    "    VALUES {};\n",
    "\"\"\").format(\n",
    "    sql.SQL(',').join(map(sql.Literal, data))\n",
    ")\n",
    "\n",
    "# Execute the insert query\n",
    "cur.execute(insert_query)\n",
    "\n",
    "# Commit the transaction\n",
    "conn.commit()\n",
    "\n",
    "# # Close the cursor and connection\n",
    "# cur.close()\n",
    "# conn.close()"
>>>>>>> 5bb9f7757747801c8c53a484b346877f0745587f
   ]
  },
  {
   "cell_type": "code",
   "execution_count": 24,
   "metadata": {},
   "outputs": [
    {
     "data": {
      "text/html": [
       "<div>\n",
       "<style scoped>\n",
       "    .dataframe tbody tr th:only-of-type {\n",
       "        vertical-align: middle;\n",
       "    }\n",
       "\n",
       "    .dataframe tbody tr th {\n",
       "        vertical-align: top;\n",
       "    }\n",
       "\n",
       "    .dataframe thead th {\n",
       "        text-align: right;\n",
       "    }\n",
       "</style>\n",
       "<table border=\"1\" class=\"dataframe\">\n",
       "  <thead>\n",
       "    <tr style=\"text-align: right;\">\n",
       "      <th></th>\n",
       "      <th>review_id</th>\n",
       "      <th>order_id</th>\n",
       "      <th>review_score</th>\n",
       "      <th>review_comment_title</th>\n",
       "      <th>review_comment_message</th>\n",
       "      <th>review_creation_date</th>\n",
       "      <th>review_answer_timestamp</th>\n",
       "      <th>cleaned_review_comment</th>\n",
       "      <th>translated_review_comment</th>\n",
       "      <th>translated_comment_title</th>\n",
       "    </tr>\n",
       "  </thead>\n",
       "  <tbody>\n",
       "    <tr>\n",
       "      <th>0</th>\n",
       "      <td>7bc2406110b926393aa56f80a40eba40</td>\n",
       "      <td>73fc7af87114b39712e6da79b0a377eb</td>\n",
       "      <td>4</td>\n",
       "      <td>NaN</td>\n",
       "      <td>NaN</td>\n",
       "      <td>2018-01-18 00:00:00</td>\n",
       "      <td>2018-01-18 21:46:59</td>\n",
       "      <td>NaN</td>\n",
       "      <td>NaN</td>\n",
       "      <td>NaN</td>\n",
       "    </tr>\n",
       "    <tr>\n",
       "      <th>1</th>\n",
       "      <td>80e641a11e56f04c1ad469d5645fdfde</td>\n",
       "      <td>a548910a1c6147796b98fdf73dbeba33</td>\n",
       "      <td>5</td>\n",
       "      <td>NaN</td>\n",
       "      <td>NaN</td>\n",
       "      <td>2018-03-10 00:00:00</td>\n",
       "      <td>2018-03-11 03:05:13</td>\n",
       "      <td>NaN</td>\n",
       "      <td>NaN</td>\n",
       "      <td>NaN</td>\n",
       "    </tr>\n",
       "    <tr>\n",
       "      <th>2</th>\n",
       "      <td>228ce5500dc1d8e020d8d1322874b6f0</td>\n",
       "      <td>f9e4b658b201a9f2ecdecbb34bed034b</td>\n",
       "      <td>5</td>\n",
       "      <td>NaN</td>\n",
       "      <td>NaN</td>\n",
       "      <td>2018-02-17 00:00:00</td>\n",
       "      <td>2018-02-18 14:36:24</td>\n",
       "      <td>NaN</td>\n",
       "      <td>NaN</td>\n",
       "      <td>NaN</td>\n",
       "    </tr>\n",
       "    <tr>\n",
       "      <th>3</th>\n",
       "      <td>e64fb393e7b32834bb789ff8bb30750e</td>\n",
       "      <td>658677c97b385a9be170737859d3511b</td>\n",
       "      <td>5</td>\n",
       "      <td>NaN</td>\n",
       "      <td>Recebi bem antes do prazo estipulado.</td>\n",
       "      <td>2017-04-21 00:00:00</td>\n",
       "      <td>2017-04-21 22:02:06</td>\n",
       "      <td>Recebi bem antes do prazo estipulado.</td>\n",
       "      <td>I received it well before the stipulated deadl...</td>\n",
       "      <td>NaN</td>\n",
       "    </tr>\n",
       "    <tr>\n",
       "      <th>4</th>\n",
       "      <td>f7c4243c7fe1938f181bec41a392bdeb</td>\n",
       "      <td>8e6bfb81e283fa7e4f11123a3fb894f1</td>\n",
       "      <td>5</td>\n",
       "      <td>NaN</td>\n",
       "      <td>Parabéns lojas lannister adorei comprar pela I...</td>\n",
       "      <td>2018-03-01 00:00:00</td>\n",
       "      <td>2018-03-02 10:26:53</td>\n",
       "      <td>Parabéns lojas lannister adorei comprar pela I...</td>\n",
       "      <td>Congratulations lannister stores I loved shopp...</td>\n",
       "      <td>NaN</td>\n",
       "    </tr>\n",
       "  </tbody>\n",
       "</table>\n",
       "</div>"
      ],
      "text/plain": [
       "                          review_id                          order_id  \\\n",
       "0  7bc2406110b926393aa56f80a40eba40  73fc7af87114b39712e6da79b0a377eb   \n",
       "1  80e641a11e56f04c1ad469d5645fdfde  a548910a1c6147796b98fdf73dbeba33   \n",
       "2  228ce5500dc1d8e020d8d1322874b6f0  f9e4b658b201a9f2ecdecbb34bed034b   \n",
       "3  e64fb393e7b32834bb789ff8bb30750e  658677c97b385a9be170737859d3511b   \n",
       "4  f7c4243c7fe1938f181bec41a392bdeb  8e6bfb81e283fa7e4f11123a3fb894f1   \n",
       "\n",
       "   review_score review_comment_title  \\\n",
       "0             4                  NaN   \n",
       "1             5                  NaN   \n",
       "2             5                  NaN   \n",
       "3             5                  NaN   \n",
       "4             5                  NaN   \n",
       "\n",
       "                              review_comment_message review_creation_date  \\\n",
       "0                                                NaN  2018-01-18 00:00:00   \n",
       "1                                                NaN  2018-03-10 00:00:00   \n",
       "2                                                NaN  2018-02-17 00:00:00   \n",
       "3              Recebi bem antes do prazo estipulado.  2017-04-21 00:00:00   \n",
       "4  Parabéns lojas lannister adorei comprar pela I...  2018-03-01 00:00:00   \n",
       "\n",
       "  review_answer_timestamp                             cleaned_review_comment  \\\n",
       "0     2018-01-18 21:46:59                                                NaN   \n",
       "1     2018-03-11 03:05:13                                                NaN   \n",
       "2     2018-02-18 14:36:24                                                NaN   \n",
       "3     2017-04-21 22:02:06              Recebi bem antes do prazo estipulado.   \n",
       "4     2018-03-02 10:26:53  Parabéns lojas lannister adorei comprar pela I...   \n",
       "\n",
       "                           translated_review_comment translated_comment_title  \n",
       "0                                                NaN                      NaN  \n",
       "1                                                NaN                      NaN  \n",
       "2                                                NaN                      NaN  \n",
       "3  I received it well before the stipulated deadl...                      NaN  \n",
       "4  Congratulations lannister stores I loved shopp...                      NaN  "
      ]
     },
     "execution_count": 24,
     "metadata": {},
     "output_type": "execute_result"
    }
   ],
   "source": [
    "clean_orders_reviews_df.head()"
   ]
  },
  {
   "cell_type": "code",
<<<<<<< HEAD
   "execution_count": 28,
   "metadata": {},
   "outputs": [
    {
     "ename": "ObjectNotExecutableError",
     "evalue": "Not an executable object: 'ALTER TABLE orders_reviews_tbl ADD PRIMARY KEY (review_id);'",
     "output_type": "error",
     "traceback": [
      "\u001b[1;31m---------------------------------------------------------------------------\u001b[0m",
      "\u001b[1;31mAttributeError\u001b[0m                            Traceback (most recent call last)",
      "File \u001b[1;32mc:\\Users\\T470\\Documents\\temasekpoly_final_proj\\tp_final_proj\\my_virtualenv\\Lib\\site-packages\\sqlalchemy\\engine\\base.py:1418\u001b[0m, in \u001b[0;36mConnection.execute\u001b[1;34m(self, statement, parameters, execution_options)\u001b[0m\n\u001b[0;32m   1417\u001b[0m \u001b[38;5;28;01mtry\u001b[39;00m:\n\u001b[1;32m-> 1418\u001b[0m     meth \u001b[38;5;241m=\u001b[39m \u001b[43mstatement\u001b[49m\u001b[38;5;241;43m.\u001b[39;49m\u001b[43m_execute_on_connection\u001b[49m\n\u001b[0;32m   1419\u001b[0m \u001b[38;5;28;01mexcept\u001b[39;00m \u001b[38;5;167;01mAttributeError\u001b[39;00m \u001b[38;5;28;01mas\u001b[39;00m err:\n",
      "\u001b[1;31mAttributeError\u001b[0m: 'str' object has no attribute '_execute_on_connection'",
      "\nThe above exception was the direct cause of the following exception:\n",
      "\u001b[1;31mObjectNotExecutableError\u001b[0m                  Traceback (most recent call last)",
      "Cell \u001b[1;32mIn[28], line 3\u001b[0m\n\u001b[0;32m      1\u001b[0m \u001b[38;5;66;03m# Define SQL statements\u001b[39;00m\n\u001b[0;32m      2\u001b[0m alter_review_id_pk  \u001b[38;5;241m=\u001b[39m \u001b[38;5;124m\"\u001b[39m\u001b[38;5;124mALTER TABLE orders_reviews_tbl ADD PRIMARY KEY (review_id);\u001b[39m\u001b[38;5;124m\"\u001b[39m\n\u001b[1;32m----> 3\u001b[0m \u001b[43mconn\u001b[49m\u001b[38;5;241;43m.\u001b[39;49m\u001b[43mexecute\u001b[49m\u001b[43m(\u001b[49m\u001b[43malter_review_id_pk\u001b[49m\u001b[43m)\u001b[49m\n\u001b[0;32m      5\u001b[0m alter_order_id_fk \u001b[38;5;241m=\u001b[39m \u001b[38;5;124m\"\u001b[39m\u001b[38;5;124mALTER TABLE orders_reviews_tbl ADD CONSTRAINT fk_order_id FOREIGN KEY (order_id) REFERENCES order_tbl(order_id);\u001b[39m\u001b[38;5;124m\"\u001b[39m\n\u001b[0;32m      6\u001b[0m conn\u001b[38;5;241m.\u001b[39mexecute(alter_order_id_fk)\n",
      "File \u001b[1;32mc:\\Users\\T470\\Documents\\temasekpoly_final_proj\\tp_final_proj\\my_virtualenv\\Lib\\site-packages\\sqlalchemy\\engine\\base.py:1420\u001b[0m, in \u001b[0;36mConnection.execute\u001b[1;34m(self, statement, parameters, execution_options)\u001b[0m\n\u001b[0;32m   1418\u001b[0m     meth \u001b[38;5;241m=\u001b[39m statement\u001b[38;5;241m.\u001b[39m_execute_on_connection\n\u001b[0;32m   1419\u001b[0m \u001b[38;5;28;01mexcept\u001b[39;00m \u001b[38;5;167;01mAttributeError\u001b[39;00m \u001b[38;5;28;01mas\u001b[39;00m err:\n\u001b[1;32m-> 1420\u001b[0m     \u001b[38;5;28;01mraise\u001b[39;00m exc\u001b[38;5;241m.\u001b[39mObjectNotExecutableError(statement) \u001b[38;5;28;01mfrom\u001b[39;00m \u001b[38;5;21;01merr\u001b[39;00m\n\u001b[0;32m   1421\u001b[0m \u001b[38;5;28;01melse\u001b[39;00m:\n\u001b[0;32m   1422\u001b[0m     \u001b[38;5;28;01mreturn\u001b[39;00m meth(\n\u001b[0;32m   1423\u001b[0m         \u001b[38;5;28mself\u001b[39m,\n\u001b[0;32m   1424\u001b[0m         distilled_parameters,\n\u001b[0;32m   1425\u001b[0m         execution_options \u001b[38;5;129;01mor\u001b[39;00m NO_OPTIONS,\n\u001b[0;32m   1426\u001b[0m     )\n",
      "\u001b[1;31mObjectNotExecutableError\u001b[0m: Not an executable object: 'ALTER TABLE orders_reviews_tbl ADD PRIMARY KEY (review_id);'"
     ]
    }
   ],
   "source": [
    "# Define SQL statements\n",
    "alter_review_id_pk  = \"ALTER TABLE orders_reviews_tbl ADD PRIMARY KEY (review_id);\"\n",
    "conn.execute(alter_review_id_pk)\n",
    "\n",
    "alter_order_id_fk = \"ALTER TABLE orders_reviews_tbl ADD CONSTRAINT fk_order_id FOREIGN KEY (order_id) REFERENCES order_tbl(order_id);\"\n",
    "conn.execute(alter_order_id_fk)\n",
    "\n",
    "\n",
    "# # Commit the changes\n",
    "# conn.commit()"
   ]
  },
  {
   "cell_type": "code",
=======
>>>>>>> 5bb9f7757747801c8c53a484b346877f0745587f
   "execution_count": null,
   "metadata": {},
   "outputs": [],
   "source": [
    "# Close the cursor and connection\n",
    "# cursor.close()\n",
    "# conn.close()"
   ]
  }
 ],
 "metadata": {
  "kernelspec": {
   "display_name": "my_virtualenv",
   "language": "python",
   "name": "python3"
  },
  "language_info": {
   "codemirror_mode": {
    "name": "ipython",
    "version": 3
   },
   "file_extension": ".py",
   "mimetype": "text/x-python",
   "name": "python",
   "nbconvert_exporter": "python",
   "pygments_lexer": "ipython3",
   "version": "3.11.4"
  }
 },
 "nbformat": 4,
 "nbformat_minor": 2
}
