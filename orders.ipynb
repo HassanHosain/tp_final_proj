{
 "cells": [
  {
   "cell_type": "code",
   "execution_count": null,
   "metadata": {},
   "outputs": [],
   "source": [
    "import pandas as pd\n",
    "\n",
    "orders_df = pd.read_csv(\"C:/Users/Kelley/Desktop/Project/Final Project/data/olist_orders_dataset.csv\")\n",
    "\n",
    "orders_df.head()"
   ]
  },
  {
   "cell_type": "code",
   "execution_count": null,
   "metadata": {},
   "outputs": [],
   "source": [
    "# Exploring the orders dataset.\n",
    "orders_df.info()\n",
    "orders_df.describe()\n"
   ]
  },
  {
   "cell_type": "markdown",
   "metadata": {},
   "source": [
    "## based on above, must change data type\n",
    "\n",
    " 0   order_id                       99441 non-null  object  to  str  \n",
    "\n",
    " 1   customer_id                    99441 non-null  object  to  str\n",
    " \n",
    " 2   order_status                   99441 non-null  object  to  category    also a cat table?\n",
    " \n",
    " 3   order_purchase_timestamp       99441 non-null  object  to  timedate\n",
    " \n",
    " 4   order_approved_at              99281 non-null  object  to  timedate\n",
    " \n",
    " 5   order_delivered_carrier_date   97658 non-null  object  to  timedate\n",
    " \n",
    " 6   order_delivered_customer_date  96476 non-null  object  to  timedate\n",
    " \n",
    " 7   order_estimated_delivery_date  99441 non-null  object  to  timedate"
   ]
  },
  {
   "cell_type": "code",
   "execution_count": null,
   "metadata": {},
   "outputs": [],
   "source": [
    "# Returning unique values for order status.\n",
    "orders_df[\"order_status\"].unique()\n"
   ]
  },
  {
   "cell_type": "markdown",
   "metadata": {},
   "source": [
    "### textblob - good for natural language processing\n",
    "Install **TextBlob**, follow these steps:\n",
    "\n",
    "1. Open your terminal or command prompt.\n",
    "2. Run the following command to install TextBlob using **pip**:\n",
    "   ```bash\n",
    "   pip install -U textblob\n",
    "   ```\n",
    "3. After installation, download the necessary NLTK corpora by running:\n",
    "   ```bash\n",
    "   python -m textblob.download_corpora\n",
    "   ```\n",
    "\n",
    "This will install TextBlob and set up the required language resources. You're now ready to use TextBlob for natural language processing tasks! 📝🔍\n",
    "\n",
    "If you encounter any issues or need further assistance, feel free to ask! 🍌\n",
    "\n",
    "Source: Conversation with Bing, 23/04/2024\n",
    "(1) Installation — TextBlob 0.18.0.post0 documentation. https://textblob.readthedocs.io/en/dev/install.html.\n",
    "(2) Python | Tokenize text using TextBlob - GeeksforGeeks. https://www.geeksforgeeks.org/python-tokenize-text-using-textblob/.\n",
    "(3) textblob · PyPI. https://pypi.org/project/textblob/.\n",
    "(4) python 3.x - I want to install textblob - Stack Overflow. https://stackoverflow.com/questions/67957936/i-want-to-install-textblob.\n",
    "(5) undefined. https://github.com/sloria/TextBlob.git.\n",
    "(6) undefined. https://github.com/sloria/TextBlob.git@dev.\n",
    "(7) undefined. https://textblob.readthedocs.io/.\n",
    "(8) undefined. https://textblob.readthedocs.io/en/latest/changelog.html."
   ]
  },
  {
   "cell_type": "code",
   "execution_count": null,
   "metadata": {},
   "outputs": [],
   "source": [
    "from textblob import TextBlob\n",
    "\n",
    "# Function to correct spelling\n",
    "def correct_spelling(word):\n",
    "    return str(TextBlob(word).correct())\n",
    "\n",
    "# Apply the spelling correction function to order_status column.\n",
    "orders_df['order_status'] = orders_df['order_status'].apply(correct_spelling)\n",
    "\n",
    "# Print the corrected dataframe\n",
    "print(orders_df)\n"
   ]
  },
  {
   "cell_type": "code",
   "execution_count": null,
   "metadata": {},
   "outputs": [],
   "source": [
    "# Returning unique values for order status in a dataframe.\n",
    "order_status_unique = orders_df[[\"order_status\"]].drop_duplicates(ignore_index=True)\n",
    "\n",
    "# Reseting index to start from 1.\n",
    "order_status_unique.index = order_status_unique.index + 1\n",
    "\n",
    "print(order_status_unique)\n",
    "\n",
    "# Checking and confirming type of order_status_unique to be a dataframe.\n",
    "if isinstance(order_status_unique, pd.DataFrame):\n",
    "    print(\"order_status_unique is a DataFrame.\")"
   ]
  },
  {
   "cell_type": "markdown",
   "metadata": {},
   "source": [
    "## Depending on project peoblem statament / objectives and visualization needs, to choose which status/s to use/join/select. "
   ]
  },
  {
   "cell_type": "markdown",
   "metadata": {},
   "source": [
    "## to change status spelling \"canceled\" to \"cancelled\""
   ]
  },
  {
   "cell_type": "code",
   "execution_count": null,
   "metadata": {},
   "outputs": [],
   "source": []
  }
 ],
 "metadata": {
  "kernelspec": {
   "display_name": "my_virtualenv",
   "language": "python",
   "name": "python3"
  },
  "language_info": {
   "codemirror_mode": {
    "name": "ipython",
    "version": 3
   },
   "file_extension": ".py",
   "mimetype": "text/x-python",
   "name": "python",
   "nbconvert_exporter": "python",
   "pygments_lexer": "ipython3",
   "version": "3.12.0"
  }
 },
 "nbformat": 4,
 "nbformat_minor": 2
}
