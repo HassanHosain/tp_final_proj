{
 "cells": [
  {
   "cell_type": "code",
   "execution_count": 2,
   "id": "02c0f5d7-cc85-4fb8-8e89-00a119c78f7c",
   "metadata": {},
   "outputs": [
    {
     "data": {
      "text/html": [
       "<div>\n",
       "<style scoped>\n",
       "    .dataframe tbody tr th:only-of-type {\n",
       "        vertical-align: middle;\n",
       "    }\n",
       "\n",
       "    .dataframe tbody tr th {\n",
       "        vertical-align: top;\n",
       "    }\n",
       "\n",
       "    .dataframe thead th {\n",
       "        text-align: right;\n",
       "    }\n",
       "</style>\n",
       "<table border=\"1\" class=\"dataframe\">\n",
       "  <thead>\n",
       "    <tr style=\"text-align: right;\">\n",
       "      <th></th>\n",
       "      <th>order_id</th>\n",
       "      <th>payment_sequential</th>\n",
       "      <th>payment_type</th>\n",
       "      <th>payment_installments</th>\n",
       "      <th>payment_value</th>\n",
       "    </tr>\n",
       "  </thead>\n",
       "  <tbody>\n",
       "    <tr>\n",
       "      <th>0</th>\n",
       "      <td>b81ef226f3fe1789b1e8b2acac839d17</td>\n",
       "      <td>1</td>\n",
       "      <td>credit_card</td>\n",
       "      <td>8</td>\n",
       "      <td>99.33</td>\n",
       "    </tr>\n",
       "    <tr>\n",
       "      <th>1</th>\n",
       "      <td>a9810da82917af2d9aefd1278f1dcfa0</td>\n",
       "      <td>1</td>\n",
       "      <td>credit_card</td>\n",
       "      <td>1</td>\n",
       "      <td>24.39</td>\n",
       "    </tr>\n",
       "    <tr>\n",
       "      <th>2</th>\n",
       "      <td>25e8ea4e93396b6fa0d3dd708e76c1bd</td>\n",
       "      <td>1</td>\n",
       "      <td>credit_card</td>\n",
       "      <td>1</td>\n",
       "      <td>65.71</td>\n",
       "    </tr>\n",
       "    <tr>\n",
       "      <th>3</th>\n",
       "      <td>ba78997921bbcdc1373bb41e913ab953</td>\n",
       "      <td>1</td>\n",
       "      <td>credit_card</td>\n",
       "      <td>8</td>\n",
       "      <td>107.78</td>\n",
       "    </tr>\n",
       "    <tr>\n",
       "      <th>4</th>\n",
       "      <td>42fdf880ba16b47b59251dd489d4441a</td>\n",
       "      <td>1</td>\n",
       "      <td>credit_card</td>\n",
       "      <td>2</td>\n",
       "      <td>128.45</td>\n",
       "    </tr>\n",
       "    <tr>\n",
       "      <th>5</th>\n",
       "      <td>298fcdf1f73eb413e4d26d01b25bc1cd</td>\n",
       "      <td>1</td>\n",
       "      <td>credit_card</td>\n",
       "      <td>2</td>\n",
       "      <td>96.12</td>\n",
       "    </tr>\n",
       "    <tr>\n",
       "      <th>6</th>\n",
       "      <td>771ee386b001f06208a7419e4fc1bbd7</td>\n",
       "      <td>1</td>\n",
       "      <td>credit_card</td>\n",
       "      <td>1</td>\n",
       "      <td>81.16</td>\n",
       "    </tr>\n",
       "    <tr>\n",
       "      <th>7</th>\n",
       "      <td>3d7239c394a212faae122962df514ac7</td>\n",
       "      <td>1</td>\n",
       "      <td>credit_card</td>\n",
       "      <td>3</td>\n",
       "      <td>51.84</td>\n",
       "    </tr>\n",
       "    <tr>\n",
       "      <th>8</th>\n",
       "      <td>1f78449c87a54faf9e96e88ba1491fa9</td>\n",
       "      <td>1</td>\n",
       "      <td>credit_card</td>\n",
       "      <td>6</td>\n",
       "      <td>341.09</td>\n",
       "    </tr>\n",
       "    <tr>\n",
       "      <th>9</th>\n",
       "      <td>0573b5e23cbd798006520e1d5b4c6714</td>\n",
       "      <td>1</td>\n",
       "      <td>boleto</td>\n",
       "      <td>1</td>\n",
       "      <td>51.95</td>\n",
       "    </tr>\n",
       "  </tbody>\n",
       "</table>\n",
       "</div>"
      ],
      "text/plain": [
       "                           order_id  payment_sequential payment_type  \\\n",
       "0  b81ef226f3fe1789b1e8b2acac839d17                   1  credit_card   \n",
       "1  a9810da82917af2d9aefd1278f1dcfa0                   1  credit_card   \n",
       "2  25e8ea4e93396b6fa0d3dd708e76c1bd                   1  credit_card   \n",
       "3  ba78997921bbcdc1373bb41e913ab953                   1  credit_card   \n",
       "4  42fdf880ba16b47b59251dd489d4441a                   1  credit_card   \n",
       "5  298fcdf1f73eb413e4d26d01b25bc1cd                   1  credit_card   \n",
       "6  771ee386b001f06208a7419e4fc1bbd7                   1  credit_card   \n",
       "7  3d7239c394a212faae122962df514ac7                   1  credit_card   \n",
       "8  1f78449c87a54faf9e96e88ba1491fa9                   1  credit_card   \n",
       "9  0573b5e23cbd798006520e1d5b4c6714                   1       boleto   \n",
       "\n",
       "   payment_installments  payment_value  \n",
       "0                     8          99.33  \n",
       "1                     1          24.39  \n",
       "2                     1          65.71  \n",
       "3                     8         107.78  \n",
       "4                     2         128.45  \n",
       "5                     2          96.12  \n",
       "6                     1          81.16  \n",
       "7                     3          51.84  \n",
       "8                     6         341.09  \n",
       "9                     1          51.95  "
      ]
     },
     "execution_count": 2,
     "metadata": {},
     "output_type": "execute_result"
    }
   ],
   "source": [
    "import pandas as pd\n",
    "\n",
    "orders_payments_df = pd.read_csv(\"data/olist_order_payments_dataset.csv\")\n",
    "\n",
    "orders_payments_df.head(10)"
   ]
  },
  {
   "cell_type": "markdown",
   "id": "bee0bfbd-c332-4b18-b8c5-a7a4794f0055",
   "metadata": {},
   "source": [
    "### Transformation\n",
    "\n",
    "* Checking data set information for data types and Null values:\n",
    "* No Null Values"
   ]
  },
  {
   "cell_type": "code",
   "execution_count": 3,
   "id": "aa7140a4-14a7-4096-b2bb-a9cf6f0cb8b1",
   "metadata": {
    "scrolled": true
   },
   "outputs": [
    {
     "name": "stdout",
     "output_type": "stream",
     "text": [
      "<class 'pandas.core.frame.DataFrame'>\n",
      "RangeIndex: 103886 entries, 0 to 103885\n",
      "Data columns (total 5 columns):\n",
      " #   Column                Non-Null Count   Dtype  \n",
      "---  ------                --------------   -----  \n",
      " 0   order_id              103886 non-null  object \n",
      " 1   payment_sequential    103886 non-null  int64  \n",
      " 2   payment_type          103886 non-null  object \n",
      " 3   payment_installments  103886 non-null  int64  \n",
      " 4   payment_value         103886 non-null  float64\n",
      "dtypes: float64(1), int64(2), object(2)\n",
      "memory usage: 4.0+ MB\n"
     ]
    }
   ],
   "source": [
    "orders_payments_df.info()"
   ]
  },
  {
   "cell_type": "markdown",
   "id": "8a0a9fdd-6c14-4485-80d9-d23cf4d39eda",
   "metadata": {},
   "source": [
    "* Number of rows , columns"
   ]
  },
  {
   "cell_type": "code",
   "execution_count": 4,
   "id": "39c5b3a9-4d7d-479f-8c83-3c0f8590756e",
   "metadata": {},
   "outputs": [
    {
     "data": {
      "text/plain": [
       "(103886, 5)"
      ]
     },
     "execution_count": 4,
     "metadata": {},
     "output_type": "execute_result"
    }
   ],
   "source": [
    "orders_payments_df.shape"
   ]
  },
  {
   "cell_type": "markdown",
   "id": "c6adbfd1-0265-48d2-8493-818442e97fd2",
   "metadata": {},
   "source": [
    "* Name of columns"
   ]
  },
  {
   "cell_type": "code",
   "execution_count": 5,
   "id": "cb53d3a7-d650-4ec8-b95f-e358ba5b46d7",
   "metadata": {},
   "outputs": [
    {
     "data": {
      "text/plain": [
       "Index(['order_id', 'payment_sequential', 'payment_type',\n",
       "       'payment_installments', 'payment_value'],\n",
       "      dtype='object')"
      ]
     },
     "execution_count": 5,
     "metadata": {},
     "output_type": "execute_result"
    }
   ],
   "source": [
    "orders_payments_df.columns"
   ]
  },
  {
   "cell_type": "markdown",
   "id": "22d94b5e-6b8b-4504-aa18-59d52c96abd9",
   "metadata": {},
   "source": [
    "* Statistical values of the data frame"
   ]
  },
  {
   "cell_type": "code",
   "execution_count": 7,
   "id": "2e8de8a1-a186-48a7-af97-272d95e793bc",
   "metadata": {},
   "outputs": [
    {
     "data": {
      "text/html": [
       "<div>\n",
       "<style scoped>\n",
       "    .dataframe tbody tr th:only-of-type {\n",
       "        vertical-align: middle;\n",
       "    }\n",
       "\n",
       "    .dataframe tbody tr th {\n",
       "        vertical-align: top;\n",
       "    }\n",
       "\n",
       "    .dataframe thead th {\n",
       "        text-align: right;\n",
       "    }\n",
       "</style>\n",
       "<table border=\"1\" class=\"dataframe\">\n",
       "  <thead>\n",
       "    <tr style=\"text-align: right;\">\n",
       "      <th></th>\n",
       "      <th>payment_sequential</th>\n",
       "      <th>payment_installments</th>\n",
       "      <th>payment_value</th>\n",
       "    </tr>\n",
       "  </thead>\n",
       "  <tbody>\n",
       "    <tr>\n",
       "      <th>count</th>\n",
       "      <td>103886.000000</td>\n",
       "      <td>103886.000000</td>\n",
       "      <td>103886.000000</td>\n",
       "    </tr>\n",
       "    <tr>\n",
       "      <th>mean</th>\n",
       "      <td>1.092679</td>\n",
       "      <td>2.853349</td>\n",
       "      <td>154.100380</td>\n",
       "    </tr>\n",
       "    <tr>\n",
       "      <th>std</th>\n",
       "      <td>0.706584</td>\n",
       "      <td>2.687051</td>\n",
       "      <td>217.494064</td>\n",
       "    </tr>\n",
       "    <tr>\n",
       "      <th>min</th>\n",
       "      <td>1.000000</td>\n",
       "      <td>0.000000</td>\n",
       "      <td>0.000000</td>\n",
       "    </tr>\n",
       "    <tr>\n",
       "      <th>25%</th>\n",
       "      <td>1.000000</td>\n",
       "      <td>1.000000</td>\n",
       "      <td>56.790000</td>\n",
       "    </tr>\n",
       "    <tr>\n",
       "      <th>50%</th>\n",
       "      <td>1.000000</td>\n",
       "      <td>1.000000</td>\n",
       "      <td>100.000000</td>\n",
       "    </tr>\n",
       "    <tr>\n",
       "      <th>75%</th>\n",
       "      <td>1.000000</td>\n",
       "      <td>4.000000</td>\n",
       "      <td>171.837500</td>\n",
       "    </tr>\n",
       "    <tr>\n",
       "      <th>max</th>\n",
       "      <td>29.000000</td>\n",
       "      <td>24.000000</td>\n",
       "      <td>13664.080000</td>\n",
       "    </tr>\n",
       "  </tbody>\n",
       "</table>\n",
       "</div>"
      ],
      "text/plain": [
       "       payment_sequential  payment_installments  payment_value\n",
       "count       103886.000000         103886.000000  103886.000000\n",
       "mean             1.092679              2.853349     154.100380\n",
       "std              0.706584              2.687051     217.494064\n",
       "min              1.000000              0.000000       0.000000\n",
       "25%              1.000000              1.000000      56.790000\n",
       "50%              1.000000              1.000000     100.000000\n",
       "75%              1.000000              4.000000     171.837500\n",
       "max             29.000000             24.000000   13664.080000"
      ]
     },
     "execution_count": 7,
     "metadata": {},
     "output_type": "execute_result"
    }
   ],
   "source": [
    "orders_payments_df.describe()"
   ]
  },
  {
   "cell_type": "markdown",
   "id": "971d1b46-3ddf-436d-bfd1-e7d04ccd6011",
   "metadata": {},
   "source": [
    "* ensure there is no Nan/Null values"
   ]
  },
  {
   "cell_type": "code",
   "execution_count": 6,
   "id": "dd9f3b31-ef1a-4c72-99d4-59e0dd2f8fc8",
   "metadata": {},
   "outputs": [
    {
     "data": {
      "text/plain": [
       "order_id                0\n",
       "payment_sequential      0\n",
       "payment_type            0\n",
       "payment_installments    0\n",
       "payment_value           0\n",
       "dtype: int64"
      ]
     },
     "execution_count": 6,
     "metadata": {},
     "output_type": "execute_result"
    }
   ],
   "source": [
    "orders_payments_df.isna().sum()"
   ]
  },
  {
   "cell_type": "markdown",
   "id": "eb977dc0-eede-449c-ad62-5a6dc3cc33a1",
   "metadata": {},
   "source": [
    "* To check the total count of True and False values for each column after identifying duplicates\n",
    "* Outcome: there is no duplicate values in all columns"
   ]
  },
  {
   "cell_type": "code",
   "execution_count": 13,
   "id": "54b22b58-bb27-4ab4-9072-8b992be3ffcb",
   "metadata": {},
   "outputs": [
    {
     "name": "stdout",
     "output_type": "stream",
     "text": [
      "False    103886\n",
      "Name: count, dtype: int64\n"
     ]
    }
   ],
   "source": [
    "duplicates = orders_payments_df.duplicated()\n",
    "print(duplicates.value_counts())\n"
   ]
  },
  {
   "cell_type": "markdown",
   "id": "172a127e-1bfe-436c-8e9a-37b65052bc5a",
   "metadata": {},
   "source": [
    "* Checking for Unique values for Columns: 'payment_sequential' , 'payment_type', 'payment_installment'"
   ]
  },
  {
   "cell_type": "code",
   "execution_count": 17,
   "id": "3e30b1c0-a33b-4758-8e41-807629bc5950",
   "metadata": {},
   "outputs": [
    {
     "name": "stdout",
     "output_type": "stream",
     "text": [
      "Unique values for payment_sequential sorted: [ 1  2  3  4  5  6  7  8  9 10 11 12 13 14 15 16 17 18 19 20 21 22 23 24\n",
      " 25 26 27 28 29]\n",
      "Unique values for payment_type: ['credit_card' 'boleto' 'voucher' 'debit_card' 'not_defined']\n",
      "Unique values for payment_installments sorted: [ 0  1  2  3  4  5  6  7  8  9 10 11 12 13 14 15 16 17 18 20 21 22 23 24]\n"
     ]
    }
   ],
   "source": [
    "# Unique values for payment_sequential sorted\n",
    "unique_payment_sequential_sorted = orders_payments_df['payment_sequential'].unique()\n",
    "unique_payment_sequential_sorted.sort()\n",
    "print(\"Unique values for payment_sequential sorted:\", unique_payment_sequential_sorted)\n",
    "\n",
    "# Unique values for payment_type\n",
    "unique_payment_type = orders_payments_df['payment_type'].unique()\n",
    "print(\"Unique values for payment_type:\", unique_payment_type)\n",
    "\n",
    "\n",
    "# Unique values for payment_installments sorted\n",
    "unique_payment_installments_sorted = orders_payments_df['payment_installments'].unique()\n",
    "unique_payment_installments_sorted.sort()\n",
    "print(\"Unique values for payment_installments sorted:\", unique_payment_installments_sorted)\n"
   ]
  },
  {
   "cell_type": "markdown",
   "id": "3a1c69b8-17c1-49b7-b69a-54bddd5c7051",
   "metadata": {},
   "source": [
    "#### Column :'payment_sequential'\n",
    "* If the 'payment_sequential' values range between 1 and 29, it likely indicates that a customer has made multiple payments for an order, with each payment recorded in sequential order.\n",
    "  \n",
    "* This scenario could occur if a customer uses multiple payment methods or if payments are processed in installments. For example, if a customer initially pays a portion of the order amount using one payment method and then pays the remaining amount using another method, each of these payments would be assigned a sequential number to track their order.\n",
    "\n",
    "* Understanding the sequential numbering helps in analyzing the payment behavior of customers and identifying any patterns or trends in how they choose to pay for their orders.\n",
    "\n",
    "* 95.64 % make 1 full lump sum payment when ordering.\n",
    "\r\n",
    "\r\n",
    "\r\n"
   ]
  },
  {
   "cell_type": "code",
   "execution_count": 19,
   "id": "1247ded7-a6bb-4c28-9f94-aed51463aed5",
   "metadata": {},
   "outputs": [
    {
     "name": "stdout",
     "output_type": "stream",
     "text": [
      "payment_sequential\n",
      "1     99360\n",
      "2      3039\n",
      "3       581\n",
      "4       278\n",
      "5       170\n",
      "6       118\n",
      "7        82\n",
      "8        54\n",
      "9        43\n",
      "10       34\n",
      "11       29\n",
      "12       21\n",
      "13       13\n",
      "14       10\n",
      "15        8\n",
      "16        6\n",
      "17        6\n",
      "18        6\n",
      "19        6\n",
      "20        4\n",
      "21        4\n",
      "22        3\n",
      "23        2\n",
      "24        2\n",
      "25        2\n",
      "26        2\n",
      "27        1\n",
      "28        1\n",
      "29        1\n",
      "dtype: int64\n"
     ]
    }
   ],
   "source": [
    "sequential_counts = orders_payments_df.groupby('payment_sequential').size()\n",
    "print(sequential_counts)\n"
   ]
  },
  {
   "cell_type": "code",
   "execution_count": 25,
   "id": "bd0f5bdf-98fe-420d-8f06-01d07f5e542f",
   "metadata": {},
   "outputs": [
    {
     "name": "stdout",
     "output_type": "stream",
     "text": [
      "1, Total_count: 99360 : 95.64%\n",
      "2, Total_count: 3039 : 2.93%\n",
      "3, Total_count: 581 : 0.56%\n",
      "4, Total_count: 278 : 0.27%\n",
      "5, Total_count: 170 : 0.16%\n",
      "6, Total_count: 118 : 0.11%\n",
      "7, Total_count: 82 : 0.08%\n",
      "8, Total_count: 54 : 0.05%\n",
      "9, Total_count: 43 : 0.04%\n",
      "10, Total_count: 34 : 0.03%\n",
      "11, Total_count: 29 : 0.03%\n",
      "12, Total_count: 21 : 0.02%\n",
      "13, Total_count: 13 : 0.01%\n",
      "14, Total_count: 10 : 0.01%\n",
      "15, Total_count: 8 : 0.01%\n",
      "16, Total_count: 6 : 0.01%\n",
      "17, Total_count: 6 : 0.01%\n",
      "18, Total_count: 6 : 0.01%\n",
      "19, Total_count: 6 : 0.01%\n",
      "20, Total_count: 4 : 0.00%\n",
      "21, Total_count: 4 : 0.00%\n",
      "22, Total_count: 3 : 0.00%\n",
      "23, Total_count: 2 : 0.00%\n",
      "24, Total_count: 2 : 0.00%\n",
      "25, Total_count: 2 : 0.00%\n",
      "26, Total_count: 2 : 0.00%\n",
      "27, Total_count: 1 : 0.00%\n",
      "28, Total_count: 1 : 0.00%\n",
      "29, Total_count: 1 : 0.00%\n"
     ]
    }
   ],
   "source": [
    "# Count of each sequential value\n",
    "sequential_counts = orders_payments_df.groupby('payment_sequential').size()\n",
    "\n",
    "# Total number of customers\n",
    "total_customers = len(orders_payments_df)\n",
    "\n",
    "# Calculate percentage for each sequential value\n",
    "percentage_customers = (sequential_counts / total_customers) * 100\n",
    "\n",
    "# Display count and percentage for each sequential value\n",
    "for sequential_value, count in sequential_counts.items():\n",
    "    percentage = (count / total_customers) * 100\n",
    "    print(f\"{sequential_value}, Total_count: {count} : {percentage:.2f}%\")\n"
   ]
  },
  {
   "cell_type": "markdown",
   "id": "ba799c1c-fdb3-40d1-947a-07cc33fac616",
   "metadata": {},
   "source": [
    "#### Column:  payment_type\"\n",
    "* Most famous payment method : credit_card\n",
    "* boleto : In Brazil, \"boleto\" is a prevalent payment method offering customers the flexibility to pay for purchases online or at physical locations using payment slips. It serves as a convenient alternative for individuals without credit cards or those who prefer not to use them, contributing to its widespread adoption and popularity in the country.\n",
    "\n",
    "* not_defined\" payment type, it's likely a placeholder or default value used in the dataset to represent instances where the payment type is not specified or not available. This could occur due to various reasons such as missing data, errors in data entry.\n",
    "* drop the \"not defined values since its only 3 rows."
   ]
  },
  {
   "cell_type": "code",
   "execution_count": 28,
   "id": "111572e2-0916-40f2-a51f-2cc1e2bd7441",
   "metadata": {},
   "outputs": [
    {
     "name": "stdout",
     "output_type": "stream",
     "text": [
      "payment_type\n",
      "credit_card    76795\n",
      "boleto         19784\n",
      "voucher         5775\n",
      "debit_card      1529\n",
      "not_defined        3\n",
      "Name: count, dtype: int64\n",
      "payment_type\n",
      "credit_card    73.922376\n",
      "boleto         19.043952\n",
      "voucher         5.558978\n",
      "debit_card      1.471806\n",
      "not_defined     0.002888\n",
      "Name: count, dtype: float64\n"
     ]
    }
   ],
   "source": [
    "# Group orders by payment type and calculate count\n",
    "payment_type_counts = orders_payments_df['payment_type'].value_counts()\n",
    "print(payment_type_counts)\n",
    "\n",
    "# Total number of orders\n",
    "total_orders = len(orders_payments_df)\n",
    "\n",
    "# Calculate percentage for each payment type\n",
    "payment_type_percentage = (payment_type_counts / total_orders) * 100\n",
    "\n",
    "print(payment_type_percentage)\n"
   ]
  },
  {
   "cell_type": "code",
   "execution_count": 29,
   "id": "54ebe5b2-ea0c-45c2-a21c-0efa8bac4019",
   "metadata": {},
   "outputs": [],
   "source": [
    "# Drop rows with \"not-defined\" values in the payment_type column\n",
    "orders_payments_df.drop(orders_payments_df[orders_payments_df['payment_type'] == 'not_defined'].index, inplace=True)\n"
   ]
  },
  {
   "cell_type": "code",
   "execution_count": 30,
   "id": "6742a32e-aba2-4371-b2e2-2e69964ca27b",
   "metadata": {},
   "outputs": [
    {
     "name": "stdout",
     "output_type": "stream",
     "text": [
      "payment_type\n",
      "credit_card    76795\n",
      "boleto         19784\n",
      "voucher         5775\n",
      "debit_card      1529\n",
      "Name: count, dtype: int64\n"
     ]
    }
   ],
   "source": [
    "payment_type_counts = orders_payments_df['payment_type'].value_counts()\n",
    "print(payment_type_counts)"
   ]
  },
  {
   "cell_type": "code",
   "execution_count": null,
   "id": "a13e9abb-98c7-4d0d-85a7-a78d3809d275",
   "metadata": {},
   "outputs": [],
   "source": [
    "# Assert that there are no more rows with \"not_defined\" values in the payment_type column\n",
    "assert (orders_payments_df['payment_type'] == 'not_defined').sum() == 0, \"There are still rows with 'not_defined' values\"\n"
   ]
  }
 ],
 "metadata": {
  "kernelspec": {
   "display_name": "Python 3 (ipykernel)",
   "language": "python",
   "name": "python3"
  },
  "language_info": {
   "codemirror_mode": {
    "name": "ipython",
    "version": 3
   },
   "file_extension": ".py",
   "mimetype": "text/x-python",
   "name": "python",
   "nbconvert_exporter": "python",
   "pygments_lexer": "ipython3",
   "version": "3.11.7"
  }
 },
 "nbformat": 4,
 "nbformat_minor": 5
}
