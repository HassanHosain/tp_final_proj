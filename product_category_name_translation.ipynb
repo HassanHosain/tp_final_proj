{
 "cells": [
  {
   "cell_type": "code",
   "execution_count": null,
   "metadata": {},
   "outputs": [],
   "source": [
    "import pandas as pd\n",
    "\n",
    "product_category_name_translation_df = pd.read_csv(\"data/product_category_name_translation.csv\")\n",
    "\n",
    "product_category_name_translation_df.head()"
   ]
  }
 ],
 "metadata": {
  "kernelspec": {
   "display_name": "my_virtualenv",
   "language": "python",
   "name": "python3"
  },
  "language_info": {
   "name": "python",
   "version": "3.11.4"
  }
 },
 "nbformat": 4,
 "nbformat_minor": 2
}
